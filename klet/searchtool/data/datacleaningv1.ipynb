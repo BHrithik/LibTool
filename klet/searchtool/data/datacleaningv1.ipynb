{
 "cells": [
  {
   "cell_type": "code",
   "execution_count": 8,
   "id": "6c261ac0",
   "metadata": {},
   "outputs": [
    {
     "name": "stdout",
     "output_type": "stream",
     "text": [
      "Collecting unidecode\n",
      "  Downloading Unidecode-1.3.6-py3-none-any.whl (235 kB)\n",
      "\u001b[2K     \u001b[90m━━━━━━━━━━━━━━━━━━━━━━━━━━━━━━━━━━━━━━━\u001b[0m \u001b[32m235.9/235.9 kB\u001b[0m \u001b[31m1.6 MB/s\u001b[0m eta \u001b[36m0:00:00\u001b[0m00:01\u001b[0m00:01\u001b[0m\n",
      "\u001b[?25hInstalling collected packages: unidecode\n",
      "Successfully installed unidecode-1.3.6\n",
      "Note: you may need to restart the kernel to use updated packages.\n"
     ]
    }
   ],
   "source": [
    "pip install unidecode"
   ]
  },
  {
   "cell_type": "code",
   "execution_count": 2,
   "id": "62e87d0f",
   "metadata": {},
   "outputs": [],
   "source": [
    "import pandas as pd\n",
    "from unidecode import unidecode\n",
    "df1 = pd.read_excel('dataset2.xlsx')\n",
    "df2 = df1\n",
    "df2.fillna('', inplace=True)\n",
    "# df2['authorEnglish2']=unidecode(df2['authorEnglish'])+\"/\"+df2['authorEnglish']\n",
    "names = []\n",
    "for d in df2['authorEnglish']:\n",
    "    if(unidecode(d) == d):\n",
    "        d2 = d.replace(\"-\",\" \")\n",
    "        if(d != d2):\n",
    "            names.append(d2+\"/\"+d)\n",
    "        else:\n",
    "            names.append(d)\n",
    "    else:\n",
    "        d2 = unidecode(d)\n",
    "        d3 = d2.replace(\"-\",\" \")\n",
    "        if(d3!=d2):\n",
    "            names.append(d3+\"/\"+d2+\"/\"+d)\n",
    "        else:\n",
    "            names.append(d3+\"/\"+d)\n",
    "names\n",
    "df2['authorEnglish2']=names\n"
   ]
  },
  {
   "cell_type": "code",
   "execution_count": null,
   "id": "c7f1e549",
   "metadata": {},
   "outputs": [],
   "source": [
    "# Lets use what has already been done"
   ]
  },
  {
   "cell_type": "code",
   "execution_count": 15,
   "id": "31a2eb43",
   "metadata": {},
   "outputs": [
    {
     "name": "stdout",
     "output_type": "stream",
     "text": [
      "before duplicates:- 2446\n",
      "No. of duplicates:- 870\n",
      "after getting rid of duplicates:- 1681\n"
     ]
    }
   ],
   "source": [
    "df1 = pd.read_csv('dataClean.csv')\n",
    "print(\"before duplicates:-\",df1.shape[0])\n",
    "df3 = df1[df1.duplicated([\"sourceTitle\",\"publisher\",\"yearCreated\"],keep=False)]\n",
    "print(\"No. of duplicates:-\",df3.shape[0])\n",
    "df3.to_csv('ptDuplicates.csv')\n",
    "df4 = df1.drop_duplicates(subset=[\"sourceTitle\",\"publisher\",\"yearCreated\"], keep='last')\n",
    "print(\"after getting rid of duplicates:-\",df4.shape[0])\n",
    "df4.to_csv('dataWithOutDups.csv')"
   ]
  },
  {
   "cell_type": "code",
   "execution_count": 3,
   "id": "8de1d9c2",
   "metadata": {},
   "outputs": [],
   "source": [
    "df2['yearCreated'] = pd.to_numeric(df2['yearCreated'],errors='coerce')"
   ]
  },
  {
   "cell_type": "code",
   "execution_count": 34,
   "id": "0cbe4152",
   "metadata": {},
   "outputs": [],
   "source": [
    "df2.to_csv('dataClean.csv')"
   ]
  },
  {
   "cell_type": "code",
   "execution_count": 1,
   "id": "f198f86d",
   "metadata": {},
   "outputs": [
    {
     "ename": "NameError",
     "evalue": "name 'df2' is not defined",
     "output_type": "error",
     "traceback": [
      "\u001b[0;31m---------------------------------------------------------------------------\u001b[0m",
      "\u001b[0;31mNameError\u001b[0m                                 Traceback (most recent call last)",
      "Cell \u001b[0;32mIn[1], line 1\u001b[0m\n\u001b[0;32m----> 1\u001b[0m \u001b[43mdf2\u001b[49m\n",
      "\u001b[0;31mNameError\u001b[0m: name 'df2' is not defined"
     ]
    }
   ],
   "source": [
    "df2"
   ]
  }
 ],
 "metadata": {
  "kernelspec": {
   "display_name": "Python 3 (ipykernel)",
   "language": "python",
   "name": "python3"
  },
  "language_info": {
   "codemirror_mode": {
    "name": "ipython",
    "version": 3
   },
   "file_extension": ".py",
   "mimetype": "text/x-python",
   "name": "python",
   "nbconvert_exporter": "python",
   "pygments_lexer": "ipython3",
   "version": "3.9.0"
  }
 },
 "nbformat": 4,
 "nbformat_minor": 5
}
