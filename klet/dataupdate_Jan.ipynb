{
 "cells": [
  {
   "cell_type": "code",
   "execution_count": 1,
   "metadata": {},
   "outputs": [
    {
     "name": "stdout",
     "output_type": "stream",
     "text": [
      "Requirement already satisfied: pandas in /Users/leunghon/LibTool-1/venv/lib/python3.9/site-packages (1.5.3)\n",
      "Requirement already satisfied: openpyxl in /Users/leunghon/LibTool-1/venv/lib/python3.9/site-packages (3.1.1)\n",
      "Requirement already satisfied: python-dateutil>=2.8.1 in /Users/leunghon/LibTool-1/venv/lib/python3.9/site-packages (from pandas) (2.8.2)\n",
      "Requirement already satisfied: numpy>=1.20.3 in /Users/leunghon/LibTool-1/venv/lib/python3.9/site-packages (from pandas) (1.24.2)\n",
      "Requirement already satisfied: pytz>=2020.1 in /Users/leunghon/LibTool-1/venv/lib/python3.9/site-packages (from pandas) (2022.7.1)\n",
      "Requirement already satisfied: et-xmlfile in /Users/leunghon/LibTool-1/venv/lib/python3.9/site-packages (from openpyxl) (1.1.0)\n",
      "Requirement already satisfied: six>=1.5 in /Users/leunghon/LibTool-1/venv/lib/python3.9/site-packages (from python-dateutil>=2.8.1->pandas) (1.16.0)\n",
      "\u001b[33mWARNING: You are using pip version 22.0.4; however, version 23.3.2 is available.\n",
      "You should consider upgrading via the '/Users/leunghon/LibTool-1/venv/bin/python -m pip install --upgrade pip' command.\u001b[0m\u001b[33m\n",
      "\u001b[0mNote: you may need to restart the kernel to use updated packages.\n"
     ]
    }
   ],
   "source": [
    "pip install pandas openpyxl"
   ]
  },
  {
   "cell_type": "code",
   "execution_count": 2,
   "metadata": {},
   "outputs": [
    {
     "name": "stdout",
     "output_type": "stream",
     "text": [
      "Requirement already satisfied: nest_asyncio in /Users/leunghon/LibTool-1/venv/lib/python3.9/site-packages (1.5.8)\n",
      "\u001b[33mWARNING: You are using pip version 22.0.4; however, version 23.3.2 is available.\n",
      "You should consider upgrading via the '/Users/leunghon/LibTool-1/venv/bin/python -m pip install --upgrade pip' command.\u001b[0m\u001b[33m\n",
      "\u001b[0mNote: you may need to restart the kernel to use updated packages.\n"
     ]
    }
   ],
   "source": [
    "pip install nest_asyncio"
   ]
  },
  {
   "cell_type": "code",
   "execution_count": 3,
   "metadata": {},
   "outputs": [],
   "source": [
    "import pandas as pd\n",
    "import os\n",
    "import django"
   ]
  },
  {
   "cell_type": "code",
   "execution_count": 12,
   "metadata": {},
   "outputs": [
    {
     "data": {
      "text/plain": [
       "'klet.settings'"
      ]
     },
     "execution_count": 12,
     "metadata": {},
     "output_type": "execute_result"
    }
   ],
   "source": [
    "os.environ.setdefault('DJANGO_SETTINGS_MODULE', 'klet.settings') "
   ]
  },
  {
   "cell_type": "code",
   "execution_count": 13,
   "metadata": {},
   "outputs": [],
   "source": [
    "import nest_asyncio\n",
    "import asyncio\n",
    "from asgiref.sync import sync_to_async\n",
    "from searchtool.models import Record  # Replace 'your_app' with the actual app name"
   ]
  },
  {
   "cell_type": "code",
   "execution_count": 14,
   "metadata": {},
   "outputs": [],
   "source": [
    "df = pd.read_excel('./searchtool/data/Update Korean Title_04Jan.xlsx') #Change your file name"
   ]
  },
  {
   "cell_type": "code",
   "execution_count": 21,
   "metadata": {},
   "outputs": [
    {
     "data": {
      "text/html": [
       "<div>\n",
       "<style scoped>\n",
       "    .dataframe tbody tr th:only-of-type {\n",
       "        vertical-align: middle;\n",
       "    }\n",
       "\n",
       "    .dataframe tbody tr th {\n",
       "        vertical-align: top;\n",
       "    }\n",
       "\n",
       "    .dataframe thead th {\n",
       "        text-align: right;\n",
       "    }\n",
       "</style>\n",
       "<table border=\"1\" class=\"dataframe\">\n",
       "  <thead>\n",
       "    <tr style=\"text-align: right;\">\n",
       "      <th></th>\n",
       "      <th>Genre</th>\n",
       "      <th>Author</th>\n",
       "      <th>Author</th>\n",
       "      <th>Work Title</th>\n",
       "      <th>Translator</th>\n",
       "      <th>Source Title</th>\n",
       "      <th>Publisher</th>\n",
       "      <th>Year</th>\n",
       "      <th>Korean Title</th>\n",
       "    </tr>\n",
       "  </thead>\n",
       "  <tbody>\n",
       "    <tr>\n",
       "      <th>0</th>\n",
       "      <td>Fiction</td>\n",
       "      <td>김내성</td>\n",
       "      <td>Kim Naesŏng</td>\n",
       "      <td>The Oval Mirror (1935)</td>\n",
       "      <td>Quillon Arkenstone</td>\n",
       "      <td>Acta Koreana, V.23 No.2 P.133-156</td>\n",
       "      <td>Academia Koreana</td>\n",
       "      <td>2020.12</td>\n",
       "      <td>타원형의 거울</td>\n",
       "    </tr>\n",
       "    <tr>\n",
       "      <th>1</th>\n",
       "      <td>Fiction</td>\n",
       "      <td>김사과</td>\n",
       "      <td>Kim Sagwa</td>\n",
       "      <td>B, Book, And Me</td>\n",
       "      <td>Sunhee Jeong</td>\n",
       "      <td>B, Book, And Me</td>\n",
       "      <td>Two Lines Press</td>\n",
       "      <td>2020</td>\n",
       "      <td>나b책</td>\n",
       "    </tr>\n",
       "    <tr>\n",
       "      <th>2</th>\n",
       "      <td>Fiction</td>\n",
       "      <td>김숨</td>\n",
       "      <td>Kim Soom</td>\n",
       "      <td>One Left: A Novel</td>\n",
       "      <td>Bruce Fulton</td>\n",
       "      <td>One Left: A Novel</td>\n",
       "      <td>University of Washington Press</td>\n",
       "      <td>2020</td>\n",
       "      <td>한 명</td>\n",
       "    </tr>\n",
       "    <tr>\n",
       "      <th>3</th>\n",
       "      <td>Fiction</td>\n",
       "      <td>김훈</td>\n",
       "      <td>Kim Hoon</td>\n",
       "      <td>Rivers And Mountains Without End</td>\n",
       "      <td>Koh Hyojin</td>\n",
       "      <td>Azalea: Journal Of Korean Literature &amp; Culture...</td>\n",
       "      <td>University of Hawai'i Press</td>\n",
       "      <td>2020</td>\n",
       "      <td>강산무진</td>\n",
       "    </tr>\n",
       "    <tr>\n",
       "      <th>4</th>\n",
       "      <td>Fiction</td>\n",
       "      <td>배명훈</td>\n",
       "      <td>Bae Myung-hoon</td>\n",
       "      <td>Tower</td>\n",
       "      <td>Sung Ryu</td>\n",
       "      <td>Tower</td>\n",
       "      <td>Honford Star</td>\n",
       "      <td>2020</td>\n",
       "      <td>타워</td>\n",
       "    </tr>\n",
       "    <tr>\n",
       "      <th>...</th>\n",
       "      <td>...</td>\n",
       "      <td>...</td>\n",
       "      <td>...</td>\n",
       "      <td>...</td>\n",
       "      <td>...</td>\n",
       "      <td>...</td>\n",
       "      <td>...</td>\n",
       "      <td>...</td>\n",
       "      <td>...</td>\n",
       "    </tr>\n",
       "    <tr>\n",
       "      <th>95</th>\n",
       "      <td>Fiction</td>\n",
       "      <td>이태준</td>\n",
       "      <td>Yi T'aejun</td>\n",
       "      <td>Omongnyǒ</td>\n",
       "      <td>Janet Poole</td>\n",
       "      <td>Dust And Other Stories</td>\n",
       "      <td>Columbia University Press</td>\n",
       "      <td>2018</td>\n",
       "      <td>오몽녀</td>\n",
       "    </tr>\n",
       "    <tr>\n",
       "      <th>96</th>\n",
       "      <td>Fiction</td>\n",
       "      <td>이태준</td>\n",
       "      <td>Yi T'aejun</td>\n",
       "      <td>The Broker's Office</td>\n",
       "      <td>Janet Poole</td>\n",
       "      <td>Dust And Other Stories</td>\n",
       "      <td>Columbia University Press</td>\n",
       "      <td>2018</td>\n",
       "      <td>복덕방</td>\n",
       "    </tr>\n",
       "    <tr>\n",
       "      <th>97</th>\n",
       "      <td>Fiction</td>\n",
       "      <td>이태준</td>\n",
       "      <td>Yi T'aejun</td>\n",
       "      <td>The Frozen River P'Ae</td>\n",
       "      <td>Janet Poole</td>\n",
       "      <td>Dust And Other Stories</td>\n",
       "      <td>Columbia University Press</td>\n",
       "      <td>2018</td>\n",
       "      <td>패강랭</td>\n",
       "    </tr>\n",
       "    <tr>\n",
       "      <th>98</th>\n",
       "      <td>Fiction</td>\n",
       "      <td>이태준</td>\n",
       "      <td>Yi T'aejun</td>\n",
       "      <td>The Hunt</td>\n",
       "      <td>Janet Poole</td>\n",
       "      <td>Dust And Other Stories</td>\n",
       "      <td>Columbia University Press</td>\n",
       "      <td>2018</td>\n",
       "      <td>사냥</td>\n",
       "    </tr>\n",
       "    <tr>\n",
       "      <th>99</th>\n",
       "      <td>Fiction</td>\n",
       "      <td>이태준</td>\n",
       "      <td>Yi T'aejun</td>\n",
       "      <td>The Rainy Season</td>\n",
       "      <td>Janet Poole</td>\n",
       "      <td>Dust And Other Stories</td>\n",
       "      <td>Columbia University Press</td>\n",
       "      <td>2018</td>\n",
       "      <td>장마</td>\n",
       "    </tr>\n",
       "  </tbody>\n",
       "</table>\n",
       "<p>100 rows × 9 columns</p>\n",
       "</div>"
      ],
      "text/plain": [
       "      Genre Author         Author                         Work Title  \\\n",
       "0   Fiction    김내성     Kim Naesŏng            The Oval Mirror (1935)   \n",
       "1   Fiction    김사과       Kim Sagwa                   B, Book, And Me   \n",
       "2   Fiction     김숨        Kim Soom                 One Left: A Novel   \n",
       "3   Fiction     김훈        Kim Hoon  Rivers And Mountains Without End   \n",
       "4   Fiction    배명훈  Bae Myung-hoon                             Tower   \n",
       "..      ...    ...             ...                               ...   \n",
       "95  Fiction    이태준      Yi T'aejun                          Omongnyǒ   \n",
       "96  Fiction    이태준      Yi T'aejun               The Broker's Office   \n",
       "97  Fiction    이태준      Yi T'aejun             The Frozen River P'Ae   \n",
       "98  Fiction    이태준      Yi T'aejun                          The Hunt   \n",
       "99  Fiction    이태준      Yi T'aejun                  The Rainy Season   \n",
       "\n",
       "            Translator                                       Source Title  \\\n",
       "0   Quillon Arkenstone                  Acta Koreana, V.23 No.2 P.133-156   \n",
       "1         Sunhee Jeong                                    B, Book, And Me   \n",
       "2         Bruce Fulton                                  One Left: A Novel   \n",
       "3           Koh Hyojin  Azalea: Journal Of Korean Literature & Culture...   \n",
       "4             Sung Ryu                                              Tower   \n",
       "..                 ...                                                ...   \n",
       "95         Janet Poole                             Dust And Other Stories   \n",
       "96         Janet Poole                             Dust And Other Stories   \n",
       "97         Janet Poole                             Dust And Other Stories   \n",
       "98         Janet Poole                             Dust And Other Stories   \n",
       "99         Janet Poole                             Dust And Other Stories   \n",
       "\n",
       "                         Publisher     Year Korean Title  \n",
       "0                 Academia Koreana  2020.12      타원형의 거울  \n",
       "1                  Two Lines Press     2020          나b책  \n",
       "2   University of Washington Press     2020          한 명  \n",
       "3      University of Hawai'i Press     2020         강산무진  \n",
       "4                     Honford Star     2020           타워  \n",
       "..                             ...      ...          ...  \n",
       "95       Columbia University Press     2018          오몽녀  \n",
       "96       Columbia University Press     2018          복덕방  \n",
       "97       Columbia University Press     2018          패강랭  \n",
       "98       Columbia University Press     2018           사냥  \n",
       "99       Columbia University Press     2018           장마  \n",
       "\n",
       "[100 rows x 9 columns]"
      ]
     },
     "execution_count": 21,
     "metadata": {},
     "output_type": "execute_result"
    }
   ],
   "source": [
    "df.head(100)"
   ]
  },
  {
   "cell_type": "code",
   "execution_count": 18,
   "metadata": {},
   "outputs": [],
   "source": [
    "@sync_to_async\n",
    "def update_korean_titles():\n",
    "    for _, row in df.iterrows():\n",
    "        # Use a unique identifier to find the existing records\n",
    "        # This example uses 'workTitle' as the unique identifier; replace it with the actual identifier\n",
    "        records = Record.objects.filter(workTitle=row['Work Title'])  # Replace 'Translation Title' with the actual column name in Excel\n",
    "\n",
    "        for record in records:\n",
    "            # Check if the Korean title is empty or not\n",
    "            if not record.workTitleKorean:\n",
    "                record.workTitleKorean = row['Korean Title']  # Update the Korean Title\n",
    "                record.save()  # Save the changes to the database\n",
    "                break "
   ]
  },
  {
   "cell_type": "code",
   "execution_count": 19,
   "metadata": {},
   "outputs": [],
   "source": [
    "await update_korean_titles()"
   ]
  }
 ],
 "metadata": {
  "kernelspec": {
   "display_name": "venv",
   "language": "python",
   "name": "python3"
  },
  "language_info": {
   "codemirror_mode": {
    "name": "ipython",
    "version": 3
   },
   "file_extension": ".py",
   "mimetype": "text/x-python",
   "name": "python",
   "nbconvert_exporter": "python",
   "pygments_lexer": "ipython3",
   "version": "3.9.12"
  }
 },
 "nbformat": 4,
 "nbformat_minor": 2
}
