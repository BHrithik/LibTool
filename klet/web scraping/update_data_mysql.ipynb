{
 "cells": [
  {
   "cell_type": "code",
   "execution_count": 2,
   "metadata": {},
   "outputs": [],
   "source": [
    "import json\n",
    "import mysql.connector"
   ]
  },
  {
   "cell_type": "code",
   "execution_count": 4,
   "metadata": {},
   "outputs": [],
   "source": [
    "with open('./updated_books_openlib_0221.json', 'r', encoding='utf-8') as file:\n",
    "    books_data = json.load(file)"
   ]
  },
  {
   "cell_type": "code",
   "execution_count": 7,
   "metadata": {},
   "outputs": [],
   "source": [
    "db_config = {\n",
    "    'user': 'admin',\n",
    "    'password': 'UWteal2023',\n",
    "    'host': 'libtooldatabase.cryiegg6w7p6.us-east-1.rds.amazonaws.com',\n",
    "    'database': 'teal',\n",
    "    'port': '3306'\n",
    "}"
   ]
  },
  {
   "cell_type": "code",
   "execution_count": 8,
   "metadata": {},
   "outputs": [],
   "source": [
    "conn = mysql.connector.connect(**db_config)\n",
    "cursor = conn.cursor()"
   ]
  },
  {
   "cell_type": "code",
   "execution_count": 9,
   "metadata": {},
   "outputs": [],
   "source": [
    "update_query = '''\n",
    "    UPDATE teal.searchtool_record\n",
    "    SET subjects = %s, summary = %s\n",
    "    WHERE sourceTitle = %s\n",
    "'''"
   ]
  },
  {
   "cell_type": "code",
   "execution_count": 10,
   "metadata": {},
   "outputs": [],
   "source": [
    "for book in books_data:\n",
    "    # Convert the list of subjects to a string format if necessary\n",
    "    subjects_str = ', '.join(book['subjects']) if book['subjects'] else ''\n",
    "    summary = book['summary']  # Ensure this matches the data type in your table\n",
    "    data_tuple = (subjects_str, summary, book['sourceTitle'])\n",
    "    cursor.execute(update_query, data_tuple)"
   ]
  },
  {
   "cell_type": "code",
   "execution_count": 11,
   "metadata": {},
   "outputs": [
    {
     "name": "stdout",
     "output_type": "stream",
     "text": [
      "Database update complete.\n"
     ]
    }
   ],
   "source": [
    "conn.commit()\n",
    "cursor.close()\n",
    "conn.close()\n",
    "\n",
    "print(\"Database update complete.\")"
   ]
  }
 ],
 "metadata": {
  "kernelspec": {
   "display_name": "venv",
   "language": "python",
   "name": "python3"
  },
  "language_info": {
   "codemirror_mode": {
    "name": "ipython",
    "version": 3
   },
   "file_extension": ".py",
   "mimetype": "text/x-python",
   "name": "python",
   "nbconvert_exporter": "python",
   "pygments_lexer": "ipython3",
   "version": "3.9.12"
  }
 },
 "nbformat": 4,
 "nbformat_minor": 2
}
