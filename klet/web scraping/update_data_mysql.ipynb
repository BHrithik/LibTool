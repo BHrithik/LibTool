{
 "cells": [
  {
   "cell_type": "code",
   "execution_count": 10,
   "metadata": {},
   "outputs": [],
   "source": [
    "import json\n",
    "import mysql.connector"
   ]
  },
  {
   "cell_type": "code",
   "execution_count": 11,
   "metadata": {},
   "outputs": [],
   "source": [
    "with open('./03142024.json', 'r', encoding='utf-8') as file:\n",
    "    books_data = json.load(file)"
   ]
  },
  {
   "cell_type": "code",
   "execution_count": 12,
   "metadata": {},
   "outputs": [],
   "source": [
    "config = {\n",
    "    'user': 'admin',\n",
    "    'password': 'UWteal2023',\n",
    "    'host': 'libtooldatabase.cryiegg6w7p6.us-east-1.rds.amazonaws.com',\n",
    "    'database': 'teal',\n",
    "    'port': '3306'\n",
    "}"
   ]
  },
  {
   "cell_type": "code",
   "execution_count": 13,
   "metadata": {},
   "outputs": [],
   "source": [
    "db = mysql.connector.connect(**config)\n",
    "cursor = db.cursor()"
   ]
  },
  {
   "cell_type": "code",
   "execution_count": 17,
   "metadata": {},
   "outputs": [],
   "source": [
    "for record in books_data:\n",
    "    # Prepare SQL query to update the database record matching year, publisher, sourceTitle, and workTitle\n",
    "    sql = \"\"\"\n",
    "    UPDATE teal.searchtool_record\n",
    "    SET InfoLink = %s, `ISBN-10` = %s, `ISBN-13` = %s\n",
    "    WHERE `year` = %s AND `publisher` = %s AND `sourceTitle` = %s AND `workTitle` = %s\n",
    "    \"\"\"\n",
    "\n",
    "    # Safely get the first ISBN-10 and ISBN-13 if they exist, else use None\n",
    "    isbn_10_list = record.get('ISBN-10', [])\n",
    "    isbn_13_list = record.get('ISBN-13', [])\n",
    "    isbn_10 = isbn_10_list[0] if len(isbn_10_list) > 0 else None\n",
    "    isbn_13 = isbn_13_list[0] if len(isbn_13_list) > 0 else None\n",
    "\n",
    "    val = (\n",
    "        record.get('InfoLink'), \n",
    "        isbn_10, \n",
    "        isbn_13, \n",
    "        record['year'], \n",
    "        record['publisher'], \n",
    "        record['sourceTitle'], \n",
    "        record['workTitle']\n",
    "    )\n",
    "\n",
    "    cursor.execute(sql, val)"
   ]
  },
  {
   "cell_type": "code",
   "execution_count": 18,
   "metadata": {},
   "outputs": [
    {
     "name": "stdout",
     "output_type": "stream",
     "text": [
      "0 record(s) updated.\n"
     ]
    }
   ],
   "source": [
    "db.commit()\n",
    "print(cursor.rowcount, \"record(s) updated.\")"
   ]
  },
  {
   "cell_type": "code",
   "execution_count": 19,
   "metadata": {},
   "outputs": [],
   "source": [
    "cursor.close()\n",
    "db.close()"
   ]
  }
 ],
 "metadata": {
  "kernelspec": {
   "display_name": "venv",
   "language": "python",
   "name": "python3"
  },
  "language_info": {
   "codemirror_mode": {
    "name": "ipython",
    "version": 3
   },
   "file_extension": ".py",
   "mimetype": "text/x-python",
   "name": "python",
   "nbconvert_exporter": "python",
   "pygments_lexer": "ipython3",
   "version": "3.9.12"
  }
 },
 "nbformat": 4,
 "nbformat_minor": 2
}
