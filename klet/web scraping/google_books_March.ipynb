{
 "cells": [
  {
   "cell_type": "code",
   "execution_count": 2,
   "metadata": {},
   "outputs": [],
   "source": [
    "import json\n",
    "import requests\n",
    "import os\n",
    "from dotenv import load_dotenv"
   ]
  },
  {
   "cell_type": "code",
   "execution_count": 3,
   "metadata": {},
   "outputs": [],
   "source": [
    "# Load the environment variables from .env file\n",
    "load_dotenv()\n",
    "\n",
    "# Access the API key\n",
    "api_key = os.getenv('GOOGLE_BOOKS_API_KEY')"
   ]
  },
  {
   "cell_type": "code",
   "execution_count": 4,
   "metadata": {},
   "outputs": [],
   "source": [
    "def load_json_data(filepath):\n",
    "    with open(filepath, 'r', encoding='utf-8') as file:\n",
    "        return json.load(file)\n"
   ]
  },
  {
   "cell_type": "code",
   "execution_count": 5,
   "metadata": {},
   "outputs": [],
   "source": [
    "def save_json_data(data, filepath):\n",
    "    with open(filepath, 'w', encoding='utf-8') as file:\n",
    "        json.dump(data, file, ensure_ascii=False, indent=4)"
   ]
  },
  {
   "cell_type": "code",
   "execution_count": 7,
   "metadata": {},
   "outputs": [],
   "source": [
    "def query_google_books(title, publisher, year, api_key):\n",
    "    \"\"\"Query Google Books API using title, publisher, and year.\"\"\"\n",
    "    # Construct the query directly with title, publisher, and year\n",
    "    query = f'intitle:\"{title}\"+inpublisher:\"{publisher}\"+year:{year}'\n",
    "    url = f'https://www.googleapis.com/books/v1/volumes?q={query}&key={api_key}'\n",
    "    response = requests.get(url)\n",
    "    if response.status_code == 200:\n",
    "        return response.json()\n",
    "    else:\n",
    "        return None\n"
   ]
  },
  {
   "cell_type": "code",
   "execution_count": 8,
   "metadata": {},
   "outputs": [],
   "source": [
    "def update_book_records(book_records, api_key):\n",
    "    for record in book_records:\n",
    "        # Initialize InfoLink and ISBNs with default values\n",
    "        record['InfoLink'] = None\n",
    "        record['ISBNs'] = []\n",
    "\n",
    "        # Perform the query\n",
    "        response = query_google_books(record['sourceTitle'], record['publisher'], record['year'], api_key)\n",
    "        if response and 'items' in response and len(response['items']) > 0:\n",
    "            # Assuming the first result is the closest match\n",
    "            book_info = response['items'][0]['volumeInfo']\n",
    "            \n",
    "            # Update InfoLink\n",
    "            if 'infoLink' in book_info:\n",
    "                record['InfoLink'] = book_info['infoLink']\n",
    "            \n",
    "            # Update ISBNs\n",
    "            if 'industryIdentifiers' in book_info:\n",
    "                isbn_list = [identifier['identifier'] for identifier in book_info['industryIdentifiers'] if identifier['type'] in ['ISBN_10', 'ISBN_13']]\n",
    "                record['ISBNs'] = isbn_list"
   ]
  },
  {
   "cell_type": "code",
   "execution_count": 12,
   "metadata": {},
   "outputs": [],
   "source": [
    "book_records = load_json_data('./Record Feb 28.json')"
   ]
  },
  {
   "cell_type": "code",
   "execution_count": 15,
   "metadata": {},
   "outputs": [],
   "source": [
    "update_book_records(book_records, api_key)"
   ]
  },
  {
   "cell_type": "code",
   "execution_count": 16,
   "metadata": {},
   "outputs": [],
   "source": [
    "save_json_data(book_records, 'updated_books_march.json')"
   ]
  },
  {
   "cell_type": "code",
   "execution_count": 18,
   "metadata": {},
   "outputs": [
    {
     "name": "stdout",
     "output_type": "stream",
     "text": [
      "Total records: 3292\n",
      "Records without InfoLink: 2352 (71.45%)\n",
      "Records without ISBNs: 2542 (77.22%)\n"
     ]
    }
   ],
   "source": [
    "def analyze_book_records(file_path):\n",
    "    with open(file_path, 'r') as file:\n",
    "        book_records = json.load(file)\n",
    "    \n",
    "    total_records = len(book_records)\n",
    "    no_info_link_count = sum(1 for record in book_records if not record.get('InfoLink'))\n",
    "    no_isbns_count = sum(1 for record in book_records if not record.get('ISBNs'))\n",
    "    \n",
    "    print(f\"Total records: {total_records}\")\n",
    "    if total_records > 0:\n",
    "        no_info_link_percentage = (no_info_link_count / total_records) * 100\n",
    "        no_isbns_percentage = (no_isbns_count / total_records) * 100\n",
    "        \n",
    "        print(f\"Records without InfoLink: {no_info_link_count} ({no_info_link_percentage:.2f}%)\")\n",
    "        print(f\"Records without ISBNs: {no_isbns_count} ({no_isbns_percentage:.2f}%)\")\n",
    "    else:\n",
    "        print(\"No records found in the file.\")\n",
    "\n",
    "# Replace 'path_to_your_books.json' with the actual path to your JSON file\n",
    "analyze_book_records('./updated_books_march.json')"
   ]
  },
  {
   "cell_type": "code",
   "execution_count": 19,
   "metadata": {},
   "outputs": [
    {
     "name": "stdout",
     "output_type": "stream",
     "text": [
      "Total Fiction records: 2121\n",
      "Fiction records without InfoLink: 1715 (80.86%)\n",
      "Fiction records without ISBNs: 1796 (84.68%)\n"
     ]
    }
   ],
   "source": [
    "def analyze_fiction_book_records(file_path):\n",
    "    with open(file_path, 'r') as file:\n",
    "        book_records = json.load(file)\n",
    "    \n",
    "    # Filter for fiction records\n",
    "    fiction_records = [record for record in book_records if record.get('genre') == 'Fiction']\n",
    "    \n",
    "    total_fiction_records = len(fiction_records)\n",
    "    fiction_no_info_link_count = sum(1 for record in fiction_records if not record.get('InfoLink'))\n",
    "    fiction_no_isbns_count = sum(1 for record in fiction_records if not record.get('ISBNs'))\n",
    "    \n",
    "    print(f\"Total Fiction records: {total_fiction_records}\")\n",
    "    if total_fiction_records > 0:\n",
    "        no_info_link_percentage = (fiction_no_info_link_count / total_fiction_records) * 100\n",
    "        no_isbns_percentage = (fiction_no_isbns_count / total_fiction_records) * 100\n",
    "        \n",
    "        print(f\"Fiction records without InfoLink: {fiction_no_info_link_count} ({no_info_link_percentage:.2f}%)\")\n",
    "        print(f\"Fiction records without ISBNs: {fiction_no_isbns_count} ({no_isbns_percentage:.2f}%)\")\n",
    "    else:\n",
    "        print(\"No fiction records found.\")\n",
    "\n",
    "\n",
    "analyze_fiction_book_records('./updated_books_march.json')"
   ]
  }
 ],
 "metadata": {
  "kernelspec": {
   "display_name": "venv",
   "language": "python",
   "name": "python3"
  },
  "language_info": {
   "codemirror_mode": {
    "name": "ipython",
    "version": 3
   },
   "file_extension": ".py",
   "mimetype": "text/x-python",
   "name": "python",
   "nbconvert_exporter": "python",
   "pygments_lexer": "ipython3",
   "version": "3.9.12"
  }
 },
 "nbformat": 4,
 "nbformat_minor": 2
}
