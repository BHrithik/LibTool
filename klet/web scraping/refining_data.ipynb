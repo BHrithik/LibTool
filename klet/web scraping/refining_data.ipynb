{
 "cells": [
  {
   "cell_type": "code",
   "execution_count": 1,
   "metadata": {},
   "outputs": [],
   "source": [
    "import json"
   ]
  },
  {
   "cell_type": "code",
   "execution_count": 2,
   "metadata": {},
   "outputs": [],
   "source": [
    "file_path = './libwebscraping.json'\n",
    "with open(file_path, 'r', encoding='utf-8') as file:\n",
    "    data = json.load(file)\n"
   ]
  },
  {
   "cell_type": "code",
   "execution_count": 3,
   "metadata": {},
   "outputs": [
    {
     "data": {
      "text/plain": [
       "(827,\n",
       " [{'authorEnglish': 'Kang Kyung-ae',\n",
       "   'sourceTitle': 'Broken Strings',\n",
       "   'subjects': []},\n",
       "  {'authorEnglish': 'Kang Kyŏng-ae',\n",
       "   'sourceTitle': 'From Wonso Pond',\n",
       "   'subjects': []},\n",
       "  {'authorEnglish': 'Kang Kyung-ae',\n",
       "   'sourceTitle': 'Mother And Child',\n",
       "   'subjects': []},\n",
       "  {'authorEnglish': 'Kang Kyeong-ae',\n",
       "   'sourceTitle': 'The Underground Village',\n",
       "   'subjects': []},\n",
       "  {'authorEnglish': 'Kang kyong-ae',\n",
       "   'sourceTitle': 'The Underground Village : Volume 090',\n",
       "   'subjects': []}])"
      ]
     },
     "execution_count": 3,
     "metadata": {},
     "output_type": "execute_result"
    }
   ],
   "source": [
    "fiction_entries = [entry for entry in data if entry.get('genre') == \"Fiction\"]\n",
    "\n",
    "processed_fiction_entries = {\n",
    "    entry['sourceTitle']: {\n",
    "        'authorEnglish': entry['authorEnglish'],  # Include 'authorEnglish'\n",
    "        'sourceTitle': entry['sourceTitle'], \n",
    "        'subjects': []\n",
    "    } \n",
    "    for entry in fiction_entries\n",
    "}\n",
    "\n",
    "final_fiction_entries_list = list(processed_fiction_entries.values())\n",
    "\n",
    "len(final_fiction_entries_list), final_fiction_entries_list[:5]"
   ]
  },
  {
   "cell_type": "code",
   "execution_count": 6,
   "metadata": {},
   "outputs": [
    {
     "data": {
      "text/plain": [
       "(513,\n",
       " [{'sourceTitle': 'Elegant Lies', 'subjects': []},\n",
       "  {'sourceTitle': 'Two Bankruptcies : Volume 102', 'subjects': []},\n",
       "  {'sourceTitle': 'The Valley Nearby', 'subjects': []},\n",
       "  {'sourceTitle': 'The White Book', 'subjects': []},\n",
       "  {'sourceTitle': 'Gasil', 'subjects': []}])"
      ]
     },
     "execution_count": 6,
     "metadata": {},
     "output_type": "execute_result"
    }
   ],
   "source": [
    "# Load the JSON data for the fiction titles\n",
    "file_path = './refined_fiction_libwebscraping.json'\n",
    "\n",
    "with open(file_path, 'r', encoding='utf-8') as file:\n",
    "    fiction_data = json.load(file)\n",
    "\n",
    "# Process the titles to remove chapters/pages and ensure uniqueness\n",
    "cleaned_titles = set()\n",
    "for entry in fiction_data:\n",
    "    # Split the title at the comma and take the first part to remove chapters/pages\n",
    "    clean_title = entry['sourceTitle'].split(',')[0].strip()\n",
    "    cleaned_titles.add(clean_title)\n",
    "\n",
    "# Convert the set back to the required format\n",
    "final_fiction_titles = [{'sourceTitle': title, 'subjects': []} for title in cleaned_titles]\n",
    "\n",
    "# Show the number of unique titles and a sample\n",
    "len(final_fiction_titles), final_fiction_titles[:5]\n"
   ]
  },
  {
   "cell_type": "code",
   "execution_count": 7,
   "metadata": {},
   "outputs": [
    {
     "data": {
      "text/plain": [
       "'./refined_fiction_libwebscraping.json'"
      ]
     },
     "execution_count": 7,
     "metadata": {},
     "output_type": "execute_result"
    }
   ],
   "source": [
    "# Prepare the file path for the exported JSON\n",
    "export_file_path = './refined_fiction_libwebscraping.json'\n",
    "\n",
    "# Export the final_data to a JSON file\n",
    "with open(export_file_path, 'w', encoding='utf-8') as file:\n",
    "    json.dump(final_fiction_entries_list, file, ensure_ascii=False, indent=4)\n",
    "\n",
    "export_file_path"
   ]
  }
 ],
 "metadata": {
  "kernelspec": {
   "display_name": "venv",
   "language": "python",
   "name": "python3"
  },
  "language_info": {
   "codemirror_mode": {
    "name": "ipython",
    "version": 3
   },
   "file_extension": ".py",
   "mimetype": "text/x-python",
   "name": "python",
   "nbconvert_exporter": "python",
   "pygments_lexer": "ipython3",
   "version": "3.9.12"
  }
 },
 "nbformat": 4,
 "nbformat_minor": 2
}
