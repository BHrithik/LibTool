{
 "cells": [
  {
   "cell_type": "code",
   "execution_count": 2,
   "metadata": {},
   "outputs": [],
   "source": [
    "import json\n",
    "import requests"
   ]
  },
  {
   "cell_type": "code",
   "execution_count": 3,
   "metadata": {},
   "outputs": [],
   "source": [
    "def load_json_data(filepath):\n",
    "    with open(filepath, 'r', encoding='utf-8') as file:\n",
    "        return json.load(file)\n"
   ]
  },
  {
   "cell_type": "code",
   "execution_count": 4,
   "metadata": {},
   "outputs": [],
   "source": [
    "def save_json_data(data, filepath):\n",
    "    with open(filepath, 'w', encoding='utf-8') as file:\n",
    "        json.dump(data, file, ensure_ascii=False, indent=4)"
   ]
  },
  {
   "cell_type": "code",
   "execution_count": 5,
   "metadata": {},
   "outputs": [],
   "source": [
    "invalid_links = [\n",
    "    \"https://play.google.com/store/books/details?id=WQRrDwAAQBAJ&source=gbs_api\",\n",
    "    \"https://play.google.com/store/books/details?id=P7kqAAAAYAAJ&source=gbs_api\",\n",
    "    \"https://play.google.com/store/books/details?id=oZIpAgAAQBAJ&source=gbs_api\",\n",
    "    \"https://play.google.com/store/books/details?id=vybxDwAAQBAJ&source=gbs_api\",\n",
    "    \"https://play.google.com/store/books/details?id=YY4EAAAAYAAJ&source=gbs_api\"\n",
    "]"
   ]
  },
  {
   "cell_type": "code",
   "execution_count": 6,
   "metadata": {},
   "outputs": [],
   "source": [
    "book_records = load_json_data('./updated_books_march.json')"
   ]
  },
  {
   "cell_type": "code",
   "execution_count": 7,
   "metadata": {},
   "outputs": [],
   "source": [
    "def update_records_for_invalid_links(book_records, invalid_links):\n",
    "    for record in book_records:\n",
    "        if record.get('InfoLink') in invalid_links:\n",
    "            # Set InfoLink to None and ISBNs to an empty list if a match is found\n",
    "            record['InfoLink'] = None\n",
    "            record['ISBNs'] = []"
   ]
  },
  {
   "cell_type": "code",
   "execution_count": 8,
   "metadata": {},
   "outputs": [],
   "source": [
    "update_records_for_invalid_links(book_records, invalid_links)"
   ]
  },
  {
   "cell_type": "code",
   "execution_count": 9,
   "metadata": {},
   "outputs": [],
   "source": [
    "save_json_data(book_records, '03122024.json')"
   ]
  },
  {
   "cell_type": "code",
   "execution_count": 10,
   "metadata": {},
   "outputs": [],
   "source": [
    "def transform_isbns(book_records):\n",
    "    for record in book_records:\n",
    "        # Initialize new fields with empty lists\n",
    "        record['ISBN-10'] = []\n",
    "        record['ISBN-13'] = []\n",
    "\n",
    "        # Iterate over existing ISBNs and classify them\n",
    "        for isbn in record.get('ISBNs', []):\n",
    "            if len(isbn) == 10:\n",
    "                record['ISBN-10'].append(isbn)\n",
    "            elif len(isbn) == 13:\n",
    "                record['ISBN-13'].append(isbn)\n",
    "\n",
    "        # Remove the original ISBNs field\n",
    "        del record['ISBNs']\n",
    "\n",
    "    return book_records"
   ]
  },
  {
   "cell_type": "code",
   "execution_count": 11,
   "metadata": {},
   "outputs": [],
   "source": [
    "book_records = load_json_data('./03122024.json')"
   ]
  },
  {
   "cell_type": "code",
   "execution_count": 12,
   "metadata": {},
   "outputs": [],
   "source": [
    "book_records_transformed = transform_isbns(book_records)"
   ]
  },
  {
   "cell_type": "code",
   "execution_count": 13,
   "metadata": {},
   "outputs": [],
   "source": [
    "save_json_data(book_records_transformed, '03142024.json')"
   ]
  }
 ],
 "metadata": {
  "kernelspec": {
   "display_name": "venv",
   "language": "python",
   "name": "python3"
  },
  "language_info": {
   "codemirror_mode": {
    "name": "ipython",
    "version": 3
   },
   "file_extension": ".py",
   "mimetype": "text/x-python",
   "name": "python",
   "nbconvert_exporter": "python",
   "pygments_lexer": "ipython3",
   "version": "3.9.12"
  }
 },
 "nbformat": 4,
 "nbformat_minor": 2
}
