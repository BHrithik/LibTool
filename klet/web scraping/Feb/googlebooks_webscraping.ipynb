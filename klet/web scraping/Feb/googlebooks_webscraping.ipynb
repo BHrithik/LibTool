{
 "cells": [
  {
   "cell_type": "code",
   "execution_count": 1,
   "metadata": {},
   "outputs": [],
   "source": [
    "import json\n",
    "import requests"
   ]
  },
  {
   "cell_type": "code",
   "execution_count": 2,
   "metadata": {},
   "outputs": [],
   "source": [
    "# Function to fetch subjects from Google Books API based on work title\n",
    "def fetch_subjects_from_google_books(sourceTitle):\n",
    "    base_url = \"https://www.googleapis.com/books/v1/volumes\"\n",
    "    params = {\"q\": f'intitle:\"{sourceTitle}\"', \"fields\": \"items(volumeInfo/categories)\"}\n",
    "    response = requests.get(base_url, params=params)\n",
    "    try:\n",
    "        data = response.json()\n",
    "        if 'items' in data and len(data['items']) > 0 and 'volumeInfo' in data['items'][0] and 'categories' in data['items'][0]['volumeInfo']:\n",
    "            return data['items'][0]['volumeInfo']['categories']\n",
    "        else:\n",
    "            return []\n",
    "    except json.JSONDecodeError:\n",
    "        print(f\"Failed to decode JSON for {sourceTitle}\")\n",
    "        return []\n"
   ]
  },
  {
   "cell_type": "code",
   "execution_count": 5,
   "metadata": {},
   "outputs": [],
   "source": [
    "def update_json_with_subjects(file_path):\n",
    "    # Load the JSON data from file\n",
    "    with open(file_path, 'r') as file:\n",
    "        books = json.load(file)\n",
    "    \n",
    "    # Fetch and add subjects for each book\n",
    "    for book in books:\n",
    "        subjects = fetch_subjects_from_google_books(book['sourceTitle'])\n",
    "        book['subjects'] = subjects\n",
    "    \n",
    "    # Return the updated books data\n",
    "    return books\n"
   ]
  },
  {
   "cell_type": "code",
   "execution_count": 6,
   "metadata": {},
   "outputs": [],
   "source": [
    "def save_books_to_json(books, file_path):\n",
    "    # Save the updated data back to a new JSON file\n",
    "    with open(file_path, 'w') as file:\n",
    "        json.dump(books, file, indent=4, ensure_ascii=False)\n",
    "    print(f\"Updated JSON saved as '{file_path}'.\")"
   ]
  },
  {
   "cell_type": "code",
   "execution_count": 8,
   "metadata": {},
   "outputs": [],
   "source": [
    "# Path to your JSON file\n",
    "file_path = './refined_libwebscraping.json'  # Replace with the path to your JSON file\n",
    "updated_books = update_json_with_subjects(file_path)"
   ]
  },
  {
   "cell_type": "code",
   "execution_count": 9,
   "metadata": {},
   "outputs": [
    {
     "name": "stdout",
     "output_type": "stream",
     "text": [
      "Updated JSON saved as 'googlebooks.json'.\n"
     ]
    }
   ],
   "source": [
    "save_books_to_json(updated_books, 'googlebooks.json')"
   ]
  }
 ],
 "metadata": {
  "kernelspec": {
   "display_name": "venv",
   "language": "python",
   "name": "python3"
  },
  "language_info": {
   "codemirror_mode": {
    "name": "ipython",
    "version": 3
   },
   "file_extension": ".py",
   "mimetype": "text/x-python",
   "name": "python",
   "nbconvert_exporter": "python",
   "pygments_lexer": "ipython3",
   "version": "3.9.12"
  }
 },
 "nbformat": 4,
 "nbformat_minor": 2
}
