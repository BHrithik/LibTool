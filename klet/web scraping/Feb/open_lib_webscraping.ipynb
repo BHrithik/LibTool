{
 "cells": [
  {
   "cell_type": "code",
   "execution_count": 1,
   "metadata": {},
   "outputs": [],
   "source": [
    "import json\n",
    "import requests"
   ]
  },
  {
   "cell_type": "code",
   "execution_count": 14,
   "metadata": {},
   "outputs": [],
   "source": [
    "def fetch_book_details(work_title, author_english):\n",
    "    base_url = \"http://openlibrary.org/search.json\"\n",
    "    params = {\"title\": work_title, \"author\": author_english}\n",
    "    details = {'subjects': [], 'summary': ''}  # Initialize the dictionary to store subjects and summary\n",
    "    \n",
    "    try:\n",
    "        response = requests.get(base_url, params=params)\n",
    "        if response.status_code == 200:\n",
    "            data = response.json()\n",
    "            # Assume the first document is the correct one\n",
    "            if data['docs']:\n",
    "                doc = data['docs'][0]\n",
    "                # Fetch subjects if available\n",
    "                if 'subject' in doc:\n",
    "                    details['subjects'] = doc['subject']\n",
    "                # To fetch summary, we might need another API call to a specific edition if available\n",
    "                if 'key' in doc:\n",
    "                    edition_key = doc['key']\n",
    "                    edition_response = requests.get(f\"https://openlibrary.org{edition_key}.json\")\n",
    "                    if edition_response.status_code == 200:\n",
    "                        edition_data = edition_response.json()\n",
    "                        # Check if there's a description field\n",
    "                        if 'description' in edition_data:\n",
    "                            if isinstance(edition_data['description'], dict):\n",
    "                                details['summary'] = edition_data['description'].get('value', '')\n",
    "                            else:\n",
    "                                details['summary'] = edition_data['description']\n",
    "        else:\n",
    "            print(f\"Error fetching data for {work_title}: Status code {response.status_code}\")\n",
    "    except requests.exceptions.RequestException as e:\n",
    "        print(f\"Request exception for {work_title} and author {author_english}: {e}\")\n",
    "    except json.JSONDecodeError:\n",
    "        print(f\"Failed to decode JSON for {work_title} and author {author_english}\")\n",
    "    \n",
    "    return details\n"
   ]
  },
  {
   "cell_type": "code",
   "execution_count": 18,
   "metadata": {},
   "outputs": [],
   "source": [
    "with open('./refined_fiction_libwebscraping.json', 'r') as file:\n",
    "    books = json.load(file)"
   ]
  },
  {
   "cell_type": "code",
   "execution_count": 21,
   "metadata": {},
   "outputs": [],
   "source": [
    "# Assuming 'books' is your list of book dictionaries loaded from the JSON file\n",
    "for book in books:\n",
    "    details = fetch_book_details(book['sourceTitle'], book['authorEnglish'])\n",
    "    book.update(details)  # This adds/updates the 'subjects' and 'summary' keys in each book dictionary"
   ]
  },
  {
   "cell_type": "code",
   "execution_count": 22,
   "metadata": {},
   "outputs": [],
   "source": [
    "# Saving the updated list back to a JSON file\n",
    "with open('updated_books_openlib_0221.json', 'w') as file:\n",
    "    json.dump(books, file, indent=4, ensure_ascii=False)"
   ]
  }
 ],
 "metadata": {
  "kernelspec": {
   "display_name": "venv",
   "language": "python",
   "name": "python3"
  },
  "language_info": {
   "codemirror_mode": {
    "name": "ipython",
    "version": 3
   },
   "file_extension": ".py",
   "mimetype": "text/x-python",
   "name": "python",
   "nbconvert_exporter": "python",
   "pygments_lexer": "ipython3",
   "version": "3.9.12"
  }
 },
 "nbformat": 4,
 "nbformat_minor": 2
}
